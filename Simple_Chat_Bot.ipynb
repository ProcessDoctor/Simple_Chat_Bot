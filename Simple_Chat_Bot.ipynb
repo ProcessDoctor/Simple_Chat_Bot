{
 "cells": [
  {
   "cell_type": "code",
   "execution_count": 1,
   "id": "12292f0d-69f3-40b3-9221-2328507b998d",
   "metadata": {},
   "outputs": [
    {
     "name": "stdout",
     "output_type": "stream",
     "text": [
      "Requirement already satisfied: langchain in c:\\users\\akino\\anaconda3\\envs\\nlp_project\\lib\\site-packages (0.3.26)\n",
      "Requirement already satisfied: openai in c:\\users\\akino\\anaconda3\\envs\\nlp_project\\lib\\site-packages (1.95.0)\n",
      "Requirement already satisfied: langchain-core<1.0.0,>=0.3.66 in c:\\users\\akino\\anaconda3\\envs\\nlp_project\\lib\\site-packages (from langchain) (0.3.68)\n",
      "Requirement already satisfied: langchain-text-splitters<1.0.0,>=0.3.8 in c:\\users\\akino\\anaconda3\\envs\\nlp_project\\lib\\site-packages (from langchain) (0.3.8)\n",
      "Requirement already satisfied: langsmith>=0.1.17 in c:\\users\\akino\\anaconda3\\envs\\nlp_project\\lib\\site-packages (from langchain) (0.4.5)\n",
      "Requirement already satisfied: pydantic<3.0.0,>=2.7.4 in c:\\users\\akino\\anaconda3\\envs\\nlp_project\\lib\\site-packages (from langchain) (2.11.7)\n",
      "Requirement already satisfied: SQLAlchemy<3,>=1.4 in c:\\users\\akino\\anaconda3\\envs\\nlp_project\\lib\\site-packages (from langchain) (2.0.41)\n",
      "Requirement already satisfied: requests<3,>=2 in c:\\users\\akino\\anaconda3\\envs\\nlp_project\\lib\\site-packages (from langchain) (2.32.4)\n",
      "Requirement already satisfied: PyYAML>=5.3 in c:\\users\\akino\\anaconda3\\envs\\nlp_project\\lib\\site-packages (from langchain) (6.0.2)\n",
      "Requirement already satisfied: async-timeout<5.0.0,>=4.0.0 in c:\\users\\akino\\anaconda3\\envs\\nlp_project\\lib\\site-packages (from langchain) (4.0.3)\n",
      "Requirement already satisfied: tenacity!=8.4.0,<10.0.0,>=8.1.0 in c:\\users\\akino\\anaconda3\\envs\\nlp_project\\lib\\site-packages (from langchain-core<1.0.0,>=0.3.66->langchain) (9.1.2)\n",
      "Requirement already satisfied: jsonpatch<2.0,>=1.33 in c:\\users\\akino\\anaconda3\\envs\\nlp_project\\lib\\site-packages (from langchain-core<1.0.0,>=0.3.66->langchain) (1.33)\n",
      "Requirement already satisfied: packaging<25,>=23.2 in c:\\users\\akino\\anaconda3\\envs\\nlp_project\\lib\\site-packages (from langchain-core<1.0.0,>=0.3.66->langchain) (24.2)\n",
      "Requirement already satisfied: typing-extensions>=4.7 in c:\\users\\akino\\anaconda3\\envs\\nlp_project\\lib\\site-packages (from langchain-core<1.0.0,>=0.3.66->langchain) (4.14.1)\n",
      "Requirement already satisfied: jsonpointer>=1.9 in c:\\users\\akino\\anaconda3\\envs\\nlp_project\\lib\\site-packages (from jsonpatch<2.0,>=1.33->langchain-core<1.0.0,>=0.3.66->langchain) (3.0.0)\n",
      "Requirement already satisfied: annotated-types>=0.6.0 in c:\\users\\akino\\anaconda3\\envs\\nlp_project\\lib\\site-packages (from pydantic<3.0.0,>=2.7.4->langchain) (0.7.0)\n",
      "Requirement already satisfied: pydantic-core==2.33.2 in c:\\users\\akino\\anaconda3\\envs\\nlp_project\\lib\\site-packages (from pydantic<3.0.0,>=2.7.4->langchain) (2.33.2)\n",
      "Requirement already satisfied: typing-inspection>=0.4.0 in c:\\users\\akino\\anaconda3\\envs\\nlp_project\\lib\\site-packages (from pydantic<3.0.0,>=2.7.4->langchain) (0.4.1)\n",
      "Requirement already satisfied: charset_normalizer<4,>=2 in c:\\users\\akino\\anaconda3\\envs\\nlp_project\\lib\\site-packages (from requests<3,>=2->langchain) (3.4.2)\n",
      "Requirement already satisfied: idna<4,>=2.5 in c:\\users\\akino\\anaconda3\\envs\\nlp_project\\lib\\site-packages (from requests<3,>=2->langchain) (3.10)\n",
      "Requirement already satisfied: urllib3<3,>=1.21.1 in c:\\users\\akino\\anaconda3\\envs\\nlp_project\\lib\\site-packages (from requests<3,>=2->langchain) (2.5.0)\n",
      "Requirement already satisfied: certifi>=2017.4.17 in c:\\users\\akino\\anaconda3\\envs\\nlp_project\\lib\\site-packages (from requests<3,>=2->langchain) (2025.6.15)\n",
      "Requirement already satisfied: greenlet>=1 in c:\\users\\akino\\anaconda3\\envs\\nlp_project\\lib\\site-packages (from SQLAlchemy<3,>=1.4->langchain) (3.2.3)\n",
      "Requirement already satisfied: anyio<5,>=3.5.0 in c:\\users\\akino\\anaconda3\\envs\\nlp_project\\lib\\site-packages (from openai) (4.7.0)\n",
      "Requirement already satisfied: distro<2,>=1.7.0 in c:\\users\\akino\\anaconda3\\envs\\nlp_project\\lib\\site-packages (from openai) (1.9.0)\n",
      "Requirement already satisfied: httpx<1,>=0.23.0 in c:\\users\\akino\\anaconda3\\envs\\nlp_project\\lib\\site-packages (from openai) (0.28.1)\n",
      "Requirement already satisfied: jiter<1,>=0.4.0 in c:\\users\\akino\\anaconda3\\envs\\nlp_project\\lib\\site-packages (from openai) (0.10.0)\n",
      "Requirement already satisfied: sniffio in c:\\users\\akino\\anaconda3\\envs\\nlp_project\\lib\\site-packages (from openai) (1.3.0)\n",
      "Requirement already satisfied: tqdm>4 in c:\\users\\akino\\anaconda3\\envs\\nlp_project\\lib\\site-packages (from openai) (4.67.1)\n",
      "Requirement already satisfied: exceptiongroup>=1.0.2 in c:\\users\\akino\\anaconda3\\envs\\nlp_project\\lib\\site-packages (from anyio<5,>=3.5.0->openai) (1.2.0)\n",
      "Requirement already satisfied: httpcore==1.* in c:\\users\\akino\\anaconda3\\envs\\nlp_project\\lib\\site-packages (from httpx<1,>=0.23.0->openai) (1.0.9)\n",
      "Requirement already satisfied: h11>=0.16 in c:\\users\\akino\\anaconda3\\envs\\nlp_project\\lib\\site-packages (from httpcore==1.*->httpx<1,>=0.23.0->openai) (0.16.0)\n",
      "Requirement already satisfied: orjson<4.0.0,>=3.9.14 in c:\\users\\akino\\anaconda3\\envs\\nlp_project\\lib\\site-packages (from langsmith>=0.1.17->langchain) (3.10.18)\n",
      "Requirement already satisfied: requests-toolbelt<2.0.0,>=1.0.0 in c:\\users\\akino\\anaconda3\\envs\\nlp_project\\lib\\site-packages (from langsmith>=0.1.17->langchain) (1.0.0)\n",
      "Requirement already satisfied: zstandard<0.24.0,>=0.23.0 in c:\\users\\akino\\anaconda3\\envs\\nlp_project\\lib\\site-packages (from langsmith>=0.1.17->langchain) (0.23.0)\n",
      "Requirement already satisfied: colorama in c:\\users\\akino\\anaconda3\\envs\\nlp_project\\lib\\site-packages (from tqdm>4->openai) (0.4.6)\n"
     ]
    }
   ],
   "source": [
    "!pip install langchain openai"
   ]
  },
  {
   "cell_type": "code",
   "execution_count": 2,
   "id": "e3b346c0-ec48-444a-afcc-fdd6e224757e",
   "metadata": {},
   "outputs": [
    {
     "name": "stdout",
     "output_type": "stream",
     "text": [
      "✅ OpenAI key loaded: True\n",
      "✅ Tavily key loaded: True\n",
      "✅ Langchain key loaded: True\n"
     ]
    }
   ],
   "source": [
    "# To load the keys from the env created\n",
    "from dotenv import load_dotenv\n",
    "import os\n",
    "\n",
    "load_dotenv()\n",
    "\n",
    "# Correct variable names\n",
    "openai_key = os.getenv(\"OPENAI_API_KEY\")\n",
    "tavily_key = os.getenv(\"TAVILY_API_KEY\")\n",
    "langchain_key=os.getenv(\"LANGCHAIN_API_KEY\")\n",
    "\n",
    "# Set them as environment variables explicitly (for LangChain/OpenAI to pick them up)\n",
    "os.environ[\"OPENAI_API_KEY\"] = openai_key\n",
    "os.environ[\"TAVILY_API_KEY\"] = tavily_key\n",
    "os.environ[\"LANGCHAIN_API_KEY\"]=langchain_key\n",
    "\n",
    "# Confirm\n",
    "print(\"✅ OpenAI key loaded:\", bool(openai_key))\n",
    "print(\"✅ Tavily key loaded:\", bool(tavily_key))\n",
    "print(\"✅ Langchain key loaded:\", bool(langchain_key))"
   ]
  },
  {
   "cell_type": "code",
   "execution_count": 3,
   "id": "b2d65924-b20b-48b8-a6f8-d5a4c61a0467",
   "metadata": {},
   "outputs": [],
   "source": [
    "from langchain.chat_models import ChatOpenAI\n",
    "from langchain.schema import HumanMessage"
   ]
  },
  {
   "cell_type": "code",
   "execution_count": 4,
   "id": "35c17104-e89e-4475-95d2-1dc570387d92",
   "metadata": {},
   "outputs": [
    {
     "name": "stderr",
     "output_type": "stream",
     "text": [
      "C:\\Users\\akino\\AppData\\Local\\Temp\\ipykernel_39736\\2496901922.py:1: LangChainDeprecationWarning: The class `ChatOpenAI` was deprecated in LangChain 0.0.10 and will be removed in 1.0. An updated version of the class exists in the :class:`~langchain-openai package and should be used instead. To use it run `pip install -U :class:`~langchain-openai` and import as `from :class:`~langchain_openai import ChatOpenAI``.\n",
      "  llm=ChatOpenAI(model_name =\"gpt-4\", temperature=0)\n"
     ]
    },
    {
     "name": "stdout",
     "output_type": "stream",
     "text": [
      "As an artificial intelligence, I don't have feelings, but I'm here and ready to assist you. How can I help you today?\n"
     ]
    }
   ],
   "source": [
    "llm=ChatOpenAI(model_name =\"gpt-4\", temperature=0)\n",
    "msg=HumanMessage(content=\"Hope you are having a good day?\")\n",
    "resp=llm.invoke([msg])\n",
    "\n",
    "\n",
    "print(resp.content)"
   ]
  },
  {
   "cell_type": "code",
   "execution_count": 5,
   "id": "8c409426-f58e-4af6-9dca-12bdeb3c932d",
   "metadata": {},
   "outputs": [
    {
     "name": "stdout",
     "output_type": "stream",
     "text": [
      "I'm sorry, but as an AI, I don't have access to real-time or personal data about individuals unless it has been shared with me in the course of our conversation. I am designed to respect user privacy and confidentiality. Therefore, I don't have information about Ayooluwa Akintola, PhD.\n"
     ]
    }
   ],
   "source": [
    "llm=ChatOpenAI(model_name =\"gpt-4\", temperature=0)\n",
    "msg=HumanMessage(content=\"Do you know who Ayooluwa Akintola, PhD is?\")\n",
    "resp=llm.invoke([msg])\n",
    "\n",
    "\n",
    "print(resp.content)"
   ]
  },
  {
   "cell_type": "code",
   "execution_count": 6,
   "id": "eb586f31-dc34-476a-aa7f-6bd1e5be87d7",
   "metadata": {},
   "outputs": [
    {
     "name": "stdout",
     "output_type": "stream",
     "text": [
      "As an artificial intelligence, I don't have personal experiences or emotions, but I was created by OpenAI to assist users in finding information, answering questions, and performing tasks. I'm constantly learning and updating my knowledge base to provide the most accurate and helpful responses.\n"
     ]
    }
   ],
   "source": [
    "llm=ChatOpenAI(model_name =\"gpt-4\", temperature=0)\n",
    "msg=HumanMessage(content=\"Alright, so waht can you tell me about yourself?\")\n",
    "resp=llm.invoke([msg])\n",
    "\n",
    "\n",
    "print(resp.content)"
   ]
  },
  {
   "cell_type": "code",
   "execution_count": null,
   "id": "0d0a0016-27fa-47fb-ab42-157f1b9f26a9",
   "metadata": {},
   "outputs": [],
   "source": []
  }
 ],
 "metadata": {
  "kernelspec": {
   "display_name": "Python 3 (ipykernel)",
   "language": "python",
   "name": "python3"
  },
  "language_info": {
   "codemirror_mode": {
    "name": "ipython",
    "version": 3
   },
   "file_extension": ".py",
   "mimetype": "text/x-python",
   "name": "python",
   "nbconvert_exporter": "python",
   "pygments_lexer": "ipython3",
   "version": "3.10.18"
  }
 },
 "nbformat": 4,
 "nbformat_minor": 5
}
